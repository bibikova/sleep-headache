{
 "cells": [
  {
   "cell_type": "code",
   "execution_count": 1,
   "metadata": {},
   "outputs": [],
   "source": [
    "#loading libraries, first the most basic \n",
    "import numpy as np\n",
    "import pandas as pd\n",
    "import seaborn as sns\n",
    "import matplotlib.pyplot as plt\n",
    "%matplotlib inline"
   ]
  },
  {
   "cell_type": "code",
   "execution_count": 21,
   "metadata": {},
   "outputs": [],
   "source": [
    "#importing the dataset \n",
    "df = pd.read_csv('PillowData.csv')"
   ]
  },
  {
   "cell_type": "code",
   "execution_count": 22,
   "metadata": {
    "scrolled": true
   },
   "outputs": [
    {
     "name": "stdout",
     "output_type": "stream",
     "text": [
      "<class 'pandas.core.frame.DataFrame'>\n",
      "RangeIndex: 18 entries, 0 to 17\n",
      "Data columns (total 13 columns):\n",
      "Start Time                    18 non-null object\n",
      " End Time                     18 non-null object\n",
      " Duration (mins)              18 non-null int64\n",
      " Nap                          18 non-null object\n",
      " Sleep Quality (%)            18 non-null int64\n",
      " Time Awake (mins)            18 non-null int64\n",
      " Time in REM Slep (mins)      18 non-null int64\n",
      "Time in Light Sleep (mins)    18 non-null int64\n",
      " Time In Deep Sleep (mins)    18 non-null int64\n",
      " SoundsRecorded               18 non-null int64\n",
      " Wake-up mood                 18 non-null object\n",
      "Headache                      18 non-null int64\n",
      "Strength                      18 non-null int64\n",
      "dtypes: int64(9), object(4)\n",
      "memory usage: 1.9+ KB\n"
     ]
    }
   ],
   "source": [
    "df.info() #just having a look "
   ]
  },
  {
   "cell_type": "markdown",
   "metadata": {},
   "source": [
    "#### time columns are in wrong format "
   ]
  },
  {
   "cell_type": "code",
   "execution_count": 24,
   "metadata": {},
   "outputs": [
    {
     "data": {
      "text/plain": [
       "Index(['Start Time', ' End Time', ' Duration (mins)', ' Nap',\n",
       "       ' Sleep Quality (%)', ' Time Awake (mins)', ' Time in REM Slep (mins)',\n",
       "       'Time in Light Sleep (mins)', ' Time In Deep Sleep (mins)',\n",
       "       ' SoundsRecorded', ' Wake-up mood', 'Headache', 'Strength'],\n",
       "      dtype='object')"
      ]
     },
     "execution_count": 24,
     "metadata": {},
     "output_type": "execute_result"
    }
   ],
   "source": [
    "df.columns # check the names of the columns"
   ]
  },
  {
   "cell_type": "code",
   "execution_count": 149,
   "metadata": {},
   "outputs": [],
   "source": [
    "df_c1 = df.copy() "
   ]
  },
  {
   "cell_type": "code",
   "execution_count": 150,
   "metadata": {},
   "outputs": [],
   "source": [
    "#drop the columns which won't be used \n",
    "df_c1 = df_c1.drop(columns = [' Nap', ' SoundsRecorded', ' Wake-up mood'])"
   ]
  },
  {
   "cell_type": "code",
   "execution_count": 151,
   "metadata": {},
   "outputs": [],
   "source": [
    "#removing the space in the column names\n",
    "df_c1 = df_c1.rename(columns = lambda x: x.replace(' ', ''))"
   ]
  },
  {
   "cell_type": "code",
   "execution_count": 152,
   "metadata": {},
   "outputs": [
    {
     "data": {
      "text/html": [
       "<div>\n",
       "<style scoped>\n",
       "    .dataframe tbody tr th:only-of-type {\n",
       "        vertical-align: middle;\n",
       "    }\n",
       "\n",
       "    .dataframe tbody tr th {\n",
       "        vertical-align: top;\n",
       "    }\n",
       "\n",
       "    .dataframe thead th {\n",
       "        text-align: right;\n",
       "    }\n",
       "</style>\n",
       "<table border=\"1\" class=\"dataframe\">\n",
       "  <thead>\n",
       "    <tr style=\"text-align: right;\">\n",
       "      <th></th>\n",
       "      <th>StartTime</th>\n",
       "      <th>EndTime</th>\n",
       "      <th>Duration(mins)</th>\n",
       "      <th>SleepQuality(%)</th>\n",
       "      <th>TimeAwake(mins)</th>\n",
       "      <th>TimeinREMSlep(mins)</th>\n",
       "      <th>TimeinLightSleep(mins)</th>\n",
       "      <th>TimeInDeepSleep(mins)</th>\n",
       "      <th>Headache</th>\n",
       "      <th>Strength</th>\n",
       "    </tr>\n",
       "  </thead>\n",
       "  <tbody>\n",
       "    <tr>\n",
       "      <th>0</th>\n",
       "      <td>2019-03-24 12:02:47 +0000</td>\n",
       "      <td>2019-03-24 18:10:41 +0000</td>\n",
       "      <td>368</td>\n",
       "      <td>75</td>\n",
       "      <td>10</td>\n",
       "      <td>55</td>\n",
       "      <td>123</td>\n",
       "      <td>180</td>\n",
       "      <td>0</td>\n",
       "      <td>0</td>\n",
       "    </tr>\n",
       "  </tbody>\n",
       "</table>\n",
       "</div>"
      ],
      "text/plain": [
       "                   StartTime                     EndTime  Duration(mins)  \\\n",
       "0  2019-03-24 12:02:47 +0000   2019-03-24 18:10:41 +0000             368   \n",
       "\n",
       "   SleepQuality(%)  TimeAwake(mins)  TimeinREMSlep(mins)  \\\n",
       "0               75               10                   55   \n",
       "\n",
       "   TimeinLightSleep(mins)  TimeInDeepSleep(mins)  Headache  Strength  \n",
       "0                     123                    180         0         0  "
      ]
     },
     "execution_count": 152,
     "metadata": {},
     "output_type": "execute_result"
    }
   ],
   "source": [
    "df_c1.head(1)"
   ]
  },
  {
   "cell_type": "code",
   "execution_count": 175,
   "metadata": {},
   "outputs": [],
   "source": [
    "df_c2 = df_c1.copy()"
   ]
  },
  {
   "cell_type": "code",
   "execution_count": 176,
   "metadata": {},
   "outputs": [],
   "source": [
    "#now let's fix the time format\n",
    "df_c2['StartTime'] = pd.to_datetime(df_c2['StartTime'])\n",
    "df_c2['EndTime'] = pd.to_datetime(df_c2['EndTime'])"
   ]
  },
  {
   "cell_type": "code",
   "execution_count": 177,
   "metadata": {},
   "outputs": [
    {
     "name": "stdout",
     "output_type": "stream",
     "text": [
      "<class 'pandas.core.frame.DataFrame'>\n",
      "RangeIndex: 18 entries, 0 to 17\n",
      "Data columns (total 10 columns):\n",
      "StartTime                 18 non-null datetime64[ns]\n",
      "EndTime                   18 non-null datetime64[ns]\n",
      "Duration(mins)            18 non-null int64\n",
      "SleepQuality(%)           18 non-null int64\n",
      "TimeAwake(mins)           18 non-null int64\n",
      "TimeinREMSlep(mins)       18 non-null int64\n",
      "TimeinLightSleep(mins)    18 non-null int64\n",
      "TimeInDeepSleep(mins)     18 non-null int64\n",
      "Headache                  18 non-null int64\n",
      "Strength                  18 non-null int64\n",
      "dtypes: datetime64[ns](2), int64(8)\n",
      "memory usage: 1.5 KB\n"
     ]
    }
   ],
   "source": [
    "df_c2.info()"
   ]
  },
  {
   "cell_type": "code",
   "execution_count": 178,
   "metadata": {},
   "outputs": [],
   "source": [
    "# while importing the time zone was changed, now we changed it back so it makes sence \n",
    "df_c2['StartTime'] = df_c2.StartTime.dt.tz_localize('UTC').dt.tz_convert('Australia/Sydney')\n",
    "df_c2['EndTime'] = df_c2.EndTime.dt.tz_localize('UTC').dt.tz_convert('Australia/Sydney')"
   ]
  },
  {
   "cell_type": "code",
   "execution_count": 179,
   "metadata": {},
   "outputs": [],
   "source": [
    "df_c2['StartTime'] = df_c2.StartTime.dt.tz_localize(None)\n",
    "df_c2['EndTime'] = df_c2.StartTime.dt.tz_localize(None)"
   ]
  },
  {
   "cell_type": "code",
   "execution_count": 180,
   "metadata": {},
   "outputs": [
    {
     "data": {
      "text/html": [
       "<div>\n",
       "<style scoped>\n",
       "    .dataframe tbody tr th:only-of-type {\n",
       "        vertical-align: middle;\n",
       "    }\n",
       "\n",
       "    .dataframe tbody tr th {\n",
       "        vertical-align: top;\n",
       "    }\n",
       "\n",
       "    .dataframe thead th {\n",
       "        text-align: right;\n",
       "    }\n",
       "</style>\n",
       "<table border=\"1\" class=\"dataframe\">\n",
       "  <thead>\n",
       "    <tr style=\"text-align: right;\">\n",
       "      <th></th>\n",
       "      <th>StartTime</th>\n",
       "      <th>EndTime</th>\n",
       "      <th>Duration(mins)</th>\n",
       "      <th>SleepQuality(%)</th>\n",
       "      <th>TimeAwake(mins)</th>\n",
       "      <th>TimeinREMSlep(mins)</th>\n",
       "      <th>TimeinLightSleep(mins)</th>\n",
       "      <th>TimeInDeepSleep(mins)</th>\n",
       "      <th>Headache</th>\n",
       "      <th>Strength</th>\n",
       "    </tr>\n",
       "  </thead>\n",
       "  <tbody>\n",
       "    <tr>\n",
       "      <th>0</th>\n",
       "      <td>2019-03-24 23:02:47</td>\n",
       "      <td>2019-03-24 23:02:47</td>\n",
       "      <td>368</td>\n",
       "      <td>75</td>\n",
       "      <td>10</td>\n",
       "      <td>55</td>\n",
       "      <td>123</td>\n",
       "      <td>180</td>\n",
       "      <td>0</td>\n",
       "      <td>0</td>\n",
       "    </tr>\n",
       "  </tbody>\n",
       "</table>\n",
       "</div>"
      ],
      "text/plain": [
       "            StartTime             EndTime  Duration(mins)  SleepQuality(%)  \\\n",
       "0 2019-03-24 23:02:47 2019-03-24 23:02:47             368               75   \n",
       "\n",
       "   TimeAwake(mins)  TimeinREMSlep(mins)  TimeinLightSleep(mins)  \\\n",
       "0               10                   55                     123   \n",
       "\n",
       "   TimeInDeepSleep(mins)  Headache  Strength  \n",
       "0                    180         0         0  "
      ]
     },
     "execution_count": 180,
     "metadata": {},
     "output_type": "execute_result"
    }
   ],
   "source": [
    "df_c2.head(1) #alright, all set now"
   ]
  },
  {
   "cell_type": "code",
   "execution_count": 182,
   "metadata": {},
   "outputs": [
    {
     "data": {
      "text/html": [
       "<div>\n",
       "<style scoped>\n",
       "    .dataframe tbody tr th:only-of-type {\n",
       "        vertical-align: middle;\n",
       "    }\n",
       "\n",
       "    .dataframe tbody tr th {\n",
       "        vertical-align: top;\n",
       "    }\n",
       "\n",
       "    .dataframe thead th {\n",
       "        text-align: right;\n",
       "    }\n",
       "</style>\n",
       "<table border=\"1\" class=\"dataframe\">\n",
       "  <thead>\n",
       "    <tr style=\"text-align: right;\">\n",
       "      <th></th>\n",
       "      <th>Duration(mins)</th>\n",
       "      <th>SleepQuality(%)</th>\n",
       "      <th>TimeAwake(mins)</th>\n",
       "      <th>TimeinREMSlep(mins)</th>\n",
       "      <th>TimeinLightSleep(mins)</th>\n",
       "      <th>TimeInDeepSleep(mins)</th>\n",
       "      <th>Headache</th>\n",
       "      <th>Strength</th>\n",
       "    </tr>\n",
       "  </thead>\n",
       "  <tbody>\n",
       "    <tr>\n",
       "      <th>count</th>\n",
       "      <td>18.000000</td>\n",
       "      <td>18.000000</td>\n",
       "      <td>18.000000</td>\n",
       "      <td>18.000000</td>\n",
       "      <td>18.000000</td>\n",
       "      <td>18.000000</td>\n",
       "      <td>18.000000</td>\n",
       "      <td>18.000000</td>\n",
       "    </tr>\n",
       "    <tr>\n",
       "      <th>mean</th>\n",
       "      <td>420.722222</td>\n",
       "      <td>77.388889</td>\n",
       "      <td>16.166667</td>\n",
       "      <td>56.500000</td>\n",
       "      <td>117.277778</td>\n",
       "      <td>230.777778</td>\n",
       "      <td>0.166667</td>\n",
       "      <td>0.722222</td>\n",
       "    </tr>\n",
       "    <tr>\n",
       "      <th>std</th>\n",
       "      <td>42.754849</td>\n",
       "      <td>4.590769</td>\n",
       "      <td>6.510173</td>\n",
       "      <td>38.721099</td>\n",
       "      <td>21.659954</td>\n",
       "      <td>48.431341</td>\n",
       "      <td>0.383482</td>\n",
       "      <td>1.708303</td>\n",
       "    </tr>\n",
       "    <tr>\n",
       "      <th>min</th>\n",
       "      <td>368.000000</td>\n",
       "      <td>68.000000</td>\n",
       "      <td>10.000000</td>\n",
       "      <td>10.000000</td>\n",
       "      <td>75.000000</td>\n",
       "      <td>130.000000</td>\n",
       "      <td>0.000000</td>\n",
       "      <td>0.000000</td>\n",
       "    </tr>\n",
       "    <tr>\n",
       "      <th>25%</th>\n",
       "      <td>390.250000</td>\n",
       "      <td>75.000000</td>\n",
       "      <td>10.000000</td>\n",
       "      <td>32.500000</td>\n",
       "      <td>101.500000</td>\n",
       "      <td>197.500000</td>\n",
       "      <td>0.000000</td>\n",
       "      <td>0.000000</td>\n",
       "    </tr>\n",
       "    <tr>\n",
       "      <th>50%</th>\n",
       "      <td>415.500000</td>\n",
       "      <td>77.500000</td>\n",
       "      <td>15.000000</td>\n",
       "      <td>47.500000</td>\n",
       "      <td>120.000000</td>\n",
       "      <td>224.500000</td>\n",
       "      <td>0.000000</td>\n",
       "      <td>0.000000</td>\n",
       "    </tr>\n",
       "    <tr>\n",
       "      <th>75%</th>\n",
       "      <td>443.750000</td>\n",
       "      <td>80.000000</td>\n",
       "      <td>18.750000</td>\n",
       "      <td>71.250000</td>\n",
       "      <td>133.250000</td>\n",
       "      <td>266.000000</td>\n",
       "      <td>0.000000</td>\n",
       "      <td>0.000000</td>\n",
       "    </tr>\n",
       "    <tr>\n",
       "      <th>max</th>\n",
       "      <td>529.000000</td>\n",
       "      <td>87.000000</td>\n",
       "      <td>32.000000</td>\n",
       "      <td>170.000000</td>\n",
       "      <td>155.000000</td>\n",
       "      <td>315.000000</td>\n",
       "      <td>1.000000</td>\n",
       "      <td>5.000000</td>\n",
       "    </tr>\n",
       "  </tbody>\n",
       "</table>\n",
       "</div>"
      ],
      "text/plain": [
       "       Duration(mins)  SleepQuality(%)  TimeAwake(mins)  TimeinREMSlep(mins)  \\\n",
       "count       18.000000        18.000000        18.000000            18.000000   \n",
       "mean       420.722222        77.388889        16.166667            56.500000   \n",
       "std         42.754849         4.590769         6.510173            38.721099   \n",
       "min        368.000000        68.000000        10.000000            10.000000   \n",
       "25%        390.250000        75.000000        10.000000            32.500000   \n",
       "50%        415.500000        77.500000        15.000000            47.500000   \n",
       "75%        443.750000        80.000000        18.750000            71.250000   \n",
       "max        529.000000        87.000000        32.000000           170.000000   \n",
       "\n",
       "       TimeinLightSleep(mins)  TimeInDeepSleep(mins)   Headache   Strength  \n",
       "count               18.000000              18.000000  18.000000  18.000000  \n",
       "mean               117.277778             230.777778   0.166667   0.722222  \n",
       "std                 21.659954              48.431341   0.383482   1.708303  \n",
       "min                 75.000000             130.000000   0.000000   0.000000  \n",
       "25%                101.500000             197.500000   0.000000   0.000000  \n",
       "50%                120.000000             224.500000   0.000000   0.000000  \n",
       "75%                133.250000             266.000000   0.000000   0.000000  \n",
       "max                155.000000             315.000000   1.000000   5.000000  "
      ]
     },
     "execution_count": 182,
     "metadata": {},
     "output_type": "execute_result"
    }
   ],
   "source": [
    "df_c2.describe()"
   ]
  },
  {
   "cell_type": "code",
   "execution_count": 191,
   "metadata": {},
   "outputs": [
    {
     "data": {
      "image/png": "[encoded data removed]",
      "text/plain": [
       "<Figure size 432x288 with 2 Axes>"
      ]
     },
     "metadata": {},
     "output_type": "display_data"
    }
   ],
   "source": [
    "sns.heatmap(df_c2.corr(), annot=True)\n",
    "plt.show()"
   ]
  },
  {
   "cell_type": "markdown",
   "metadata": {},
   "source": [
    "#### from the few data available we can see that the strongest correlations with headache are total lenght of sleep and deep sleep; strength of headache is also correlated to total duration and deep sleep, and even stronger with deep sleep"
   ]
  },
  {
   "cell_type": "code",
   "execution_count": null,
   "metadata": {},
   "outputs": [],
   "source": []
  }
 ],
 "metadata": {
  "kernelspec": {
   "display_name": "Python 3",
   "language": "python",
   "name": "python3"
  },
  "language_info": {
   "codemirror_mode": {
    "name": "ipython",
    "version": 3
   },
   "file_extension": ".py",
   "mimetype": "text/x-python",
   "name": "python",
   "nbconvert_exporter": "python",
   "pygments_lexer": "ipython3",
   "version": "3.6.5"
  }
 },
 "nbformat": 4,
 "nbformat_minor": 2
}
